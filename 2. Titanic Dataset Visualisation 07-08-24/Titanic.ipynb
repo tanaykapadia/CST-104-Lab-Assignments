{
 "cells": [
  {
   "cell_type": "code",
   "execution_count": 3,
   "id": "e9a83dd8-138f-41c8-a557-dc1acf512b58",
   "metadata": {},
   "outputs": [],
   "source": [
    "#Importing necessary libraries\n",
    "import pandas as pd\n",
    "import seaborn as sns\n",
    "import math\n",
    "\n",
    "#Loading the titanic dataset from the seaborn library into a pandas dataframe\n",
    "df = sns.load_dataset('titanic')"
   ]
  },
  {
   "cell_type": "code",
   "execution_count": 5,
   "id": "f03e799a-2b25-4831-a64e-666f2281ea17",
   "metadata": {},
   "outputs": [
    {
     "name": "stdout",
     "output_type": "stream",
     "text": [
      "First 5 rows:\n",
      "   survived  pclass     sex   age  sibsp  parch     fare embarked  class  \\\n",
      "0         0       3    male  22.0      1      0   7.2500        S  Third   \n",
      "1         1       1  female  38.0      1      0  71.2833        C  First   \n",
      "2         1       3  female  26.0      0      0   7.9250        S  Third   \n",
      "3         1       1  female  35.0      1      0  53.1000        S  First   \n",
      "4         0       3    male  35.0      0      0   8.0500        S  Third   \n",
      "\n",
      "     who  adult_male deck  embark_town alive  alone  \n",
      "0    man        True  NaN  Southampton    no  False  \n",
      "1  woman       False    C    Cherbourg   yes  False  \n",
      "2  woman       False  NaN  Southampton   yes   True  \n",
      "3  woman       False    C  Southampton   yes  False  \n",
      "4    man        True  NaN  Southampton    no   True  \n"
     ]
    }
   ],
   "source": [
    "#Printing first 5 rows of the dataframe by slicing\n",
    "print(\"First 5 rows:\")\n",
    "first_five_rows = df[:5]\n",
    "print(first_five_rows)\n",
    "\n",
    "#Note that we could have directly used df.head()"
   ]
  },
  {
   "cell_type": "code",
   "execution_count": 88,
   "id": "bca06399-9920-4b9a-aae6-a614c622eb42",
   "metadata": {},
   "outputs": [
    {
     "name": "stdout",
     "output_type": "stream",
     "text": [
      "Column headers:\n",
      "Index(['survived', 'pclass', 'sex', 'age', 'sibsp', 'parch', 'fare',\n",
      "       'embarked', 'class', 'who', 'adult_male', 'deck', 'embark_town',\n",
      "       'alive', 'alone'],\n",
      "      dtype='object')\n"
     ]
    }
   ],
   "source": [
    "#Printing the column headers using pandas column attribute\n",
    "print(\"Column headers:\")\n",
    "print(df.columns)"
   ]
  },
  {
   "cell_type": "code",
   "execution_count": 106,
   "id": "f4ae3510-fa4c-4536-90c2-69fb08bbc2f5",
   "metadata": {},
   "outputs": [
    {
     "name": "stdout",
     "output_type": "stream",
     "text": [
      "New column headers:\n",
      "Index(['SURVIVED', 'PCLASS', 'SEX', 'AGE', 'SIBSP', 'PARCH', 'FARE',\n",
      "       'EMBARKED', 'CLASS', 'WHO', 'ADULT_MALE', 'DECK', 'EMBARK_TOWN',\n",
      "       'ALIVE', 'ALONE'],\n",
      "      dtype='object')\n"
     ]
    }
   ],
   "source": [
    "#Changing the column headers to uppercase using standard python string operations\n",
    "df.columns = df.columns.str.upper()\n",
    "print(\"New column headers:\")\n",
    "print(df.columns)"
   ]
  },
  {
   "cell_type": "code",
   "execution_count": 110,
   "id": "6806e9d9-117a-4af1-b7f0-cf11132b19df",
   "metadata": {
    "scrolled": true
   },
   "outputs": [
    {
     "name": "stdout",
     "output_type": "stream",
     "text": [
      "Descriptive statistics of the dataset:\n",
      "\n",
      "SURVIVED:\n",
      "Mean: 0.3838383838383838, Standard Deviation: 0.48631931786709665\n",
      "25th Quartile: 0, 50th Quartile: 0, 75th Quartile: 1.0\n",
      "Minimum Value: 0, Maximum Value: 890\n",
      "Number of Unique Values: 2\n",
      "\n",
      "PCLASS:\n",
      "Mean: 2.308641975308642, Standard Deviation: 0.8356019334795171\n",
      "25th Quartile: 2, 50th Quartile: 3, 75th Quartile: 3.0\n",
      "Minimum Value: 1, Maximum Value: 890\n",
      "Number of Unique Values: 3\n",
      "\n",
      "AGE:\n",
      "Mean: 29.69911764705882, Standard Deviation: 14.51632115081731\n",
      "25th Quartile: 20.0, 50th Quartile: 28.0, 75th Quartile: 38.0\n",
      "Minimum Value: 0.42, Maximum Value: 713\n",
      "Number of Unique Values: 88\n",
      "\n",
      "SIBSP:\n",
      "Mean: 0.5230078563411896, Standard Deviation: 1.1021244350892883\n",
      "25th Quartile: 0, 50th Quartile: 0, 75th Quartile: 1.0\n",
      "Minimum Value: 0, Maximum Value: 890\n",
      "Number of Unique Values: 7\n",
      "\n",
      "PARCH:\n",
      "Mean: 0.38159371492704824, Standard Deviation: 0.8056047612452211\n",
      "25th Quartile: 0, 50th Quartile: 0, 75th Quartile: 0.0\n",
      "Minimum Value: 0, Maximum Value: 890\n",
      "Number of Unique Values: 7\n",
      "\n",
      "FARE:\n",
      "Mean: 32.20420796857465, Standard Deviation: 49.66553444477409\n",
      "25th Quartile: 7.8958, 50th Quartile: 14.4542, 75th Quartile: 31.0\n",
      "Minimum Value: 0.0, Maximum Value: 890\n",
      "Number of Unique Values: 248\n",
      "\n"
     ]
    }
   ],
   "source": [
    "#Calculating descriptive statistics of the dataset\n",
    "print(\"Descriptive statistics of the dataset:\\n\")\n",
    "\n",
    "#Columns which have numerical (rather than categorical) data for which we want to calculate\n",
    "relevant_columns = ['SURVIVED', 'PCLASS', 'AGE', 'SIBSP', 'PARCH', 'FARE']\n",
    "\n",
    "#The following functions take a list (sorted when relevant) as a parameter and return the respective descriptive statistic\n",
    "\n",
    "def mean (numbers):\n",
    "    sum = 0\n",
    "    for x in numbers:\n",
    "        sum += x\n",
    "    return (sum / len(numbers))\n",
    "\n",
    "def stddev (numbers):\n",
    "    avg = mean(numbers)\n",
    "    variance = 0\n",
    "    for x in numbers:\n",
    "        variance += ((x - avg) ** 2)\n",
    "    variance /= len(numbers)\n",
    "    std_dev = math.sqrt(variance)\n",
    "    return std_dev\n",
    "\n",
    "def minimum (numbers):\n",
    "    minm = numbers[0]\n",
    "    for x in range(1, len(numbers)):\n",
    "        if x < minm:\n",
    "            minm = x\n",
    "    return minm\n",
    "\n",
    "def maximum (numbers):\n",
    "    maxm = numbers[0]\n",
    "    for x in range(1, len(numbers)):\n",
    "        if x > maxm:\n",
    "            maxm = x\n",
    "    return maxm\n",
    "\n",
    "def unique (numbers):\n",
    "    return len(set(numbers))\n",
    "\n",
    "def median (numbers):\n",
    "    n = len(numbers)\n",
    "    if n % 2 == 1:\n",
    "        return numbers[n//2]\n",
    "    else:\n",
    "        return (numbers[n//2 - 1] + numbers[n//2]) / 2\n",
    "\n",
    "def quartile1 (numbers):\n",
    "    n = len(numbers)\n",
    "    mid = n//2\n",
    "    numbers1 = numbers[:mid]\n",
    "    return median(numbers1)\n",
    "\n",
    "def quartile2 (numbers):\n",
    "    n = len(numbers)\n",
    "    mid = n//2\n",
    "    numbers2 = numbers[mid:]\n",
    "    return median(numbers2)\n",
    "\n",
    "#Iterating each column, creating a list of the data and then using the above functions to calculate the desired data\n",
    "\n",
    "for col in df.columns:\n",
    "    if col in relevant_columns:\n",
    "        val = df[col].dropna().tolist()\n",
    "        val.sort()\n",
    "        print(col + \":\")\n",
    "        print(f\"Mean: {mean(val)}, Standard Deviation: {stddev(val)}\")\n",
    "        print(f\"25th Quartile: {quartile1(val)}, 50th Quartile: {median(val)}, 75th Quartile: {quartile2(val)}\")\n",
    "        print(f\"Minimum Value: {minimum(val)}, Maximum Value: {maximum(val)}\")\n",
    "        print(f\"Number of Unique Values: {unique(val)}\\n\")"
   ]
  },
  {
   "cell_type": "code",
   "execution_count": 112,
   "id": "fdd2daf2-bf88-45c4-bb1a-62287efad0cc",
   "metadata": {},
   "outputs": [
    {
     "name": "stdout",
     "output_type": "stream",
     "text": [
      "Total number of missing values for each column:\n",
      "\n",
      "SURVIVED: 0\n",
      "PCLASS: 0\n",
      "SEX: 0\n",
      "AGE: 177\n",
      "SIBSP: 0\n",
      "PARCH: 0\n",
      "FARE: 0\n",
      "EMBARKED: 2\n",
      "CLASS: 0\n",
      "WHO: 0\n",
      "ADULT_MALE: 0\n",
      "DECK: 688\n",
      "EMBARK_TOWN: 2\n",
      "ALIVE: 0\n",
      "ALONE: 0\n"
     ]
    }
   ],
   "source": [
    "#Checking missing values in the dataset by iterating through each value\n",
    "print(\"Total number of missing values for each column:\\n\")\n",
    "\n",
    "#Dictionary to store the count of missing values for each column\n",
    "missing_counts = {}\n",
    "\n",
    "#Looping through every datavalue in the dataset\n",
    "for col in df.columns:\n",
    "    missing_count = 0\n",
    "    for row in range(len(df)):\n",
    "        if df.iloc[row][col] != df.iloc[row][col]:\n",
    "            missing_count += 1\n",
    "    missing_counts[col] = missing_count\n",
    "\n",
    "#Print the number of missing values column-wise\n",
    "for column, count in missing_counts.items():\n",
    "    print(f\"{column}: {count}\")"
   ]
  },
  {
   "cell_type": "code",
   "execution_count": 116,
   "id": "57e13156-a768-4c28-a527-12683ed259ae",
   "metadata": {},
   "outputs": [
    {
     "name": "stdout",
     "output_type": "stream",
     "text": [
      "Average age of passengers after filling the missing values: \n",
      "29.36158249158249\n"
     ]
    }
   ],
   "source": [
    "#Filling the missing values in the age column with median age and finding the new average age\n",
    "\n",
    "#Finding median age using function used in Q5\n",
    "val = df[\"AGE\"].dropna().tolist()\n",
    "val.sort()\n",
    "median_age = median(val)\n",
    "\n",
    "#Updating all NaN values\n",
    "for i in range(len(df)):\n",
    "    if df[\"AGE\"][i] != df[\"AGE\"][i]:\n",
    "        df.at[i, \"AGE\"] = median_age\n",
    "\n",
    "print(\"Average age of passengers after filling the missing values: \")\n",
    "\n",
    "val = df[\"AGE\"].tolist()\n",
    "print(mean(val))"
   ]
  },
  {
   "cell_type": "code",
   "execution_count": 118,
   "id": "528348a4-77e9-4b8f-9918-cadfbf6cdecd",
   "metadata": {},
   "outputs": [
    {
     "name": "stdout",
     "output_type": "stream",
     "text": [
      "Number of passengers who survived: 342\n",
      "Number of passengers who did not survive: 549\n",
      "Survival rate: 38.38383838383838%\n"
     ]
    }
   ],
   "source": [
    "#Finding and printing the statistics about survival\n",
    "survived = (df['SURVIVED'] == 1).sum()\n",
    "not_survived = (df['SURVIVED'] == 0).sum()\n",
    "survival_rate = (survived / (survived + not_survived)) * 100\n",
    "\n",
    "print(f\"Number of passengers who survived: {survived}\")\n",
    "print(f\"Number of passengers who did not survive: {not_survived}\")\n",
    "print(f\"Survival rate: {survival_rate}%\")"
   ]
  },
  {
   "cell_type": "code",
   "execution_count": 164,
   "id": "506f53e7-7598-484e-980f-d81f373c160f",
   "metadata": {},
   "outputs": [
    {
     "name": "stderr",
     "output_type": "stream",
     "text": [
      "C:\\Users\\Tanay\\anaconda3\\Lib\\site-packages\\seaborn\\_oldcore.py:1119: FutureWarning: use_inf_as_na option is deprecated and will be removed in a future version. Convert inf values to NaN before operating instead.\n",
      "  with pd.option_context('mode.use_inf_as_na', True):\n"
     ]
    },
    {
     "data": {
      "text/plain": [
       "<Axes: xlabel='AGE', ylabel='Count'>"
      ]
     },
     "execution_count": 164,
     "metadata": {},
     "output_type": "execute_result"
    },
    {
     "data": {
      "image/png": "[encoded data removed]",
      "text/plain": [
       "<Figure size 640x480 with 1 Axes>"
      ]
     },
     "metadata": {},
     "output_type": "display_data"
    }
   ],
   "source": [
    "#A histogram of the ages of the passengers\n",
    "sns.histplot(df[\"AGE\"])"
   ]
  },
  {
   "cell_type": "code",
   "execution_count": 162,
   "id": "e93a3f6b-65a1-4711-bed1-26eb61793c8b",
   "metadata": {},
   "outputs": [
    {
     "name": "stderr",
     "output_type": "stream",
     "text": [
      "C:\\Users\\Tanay\\anaconda3\\Lib\\site-packages\\seaborn\\_oldcore.py:1765: FutureWarning: unique with argument that is not not a Series, Index, ExtensionArray, or np.ndarray is deprecated and will raise in a future version.\n",
      "  order = pd.unique(vector)\n"
     ]
    },
    {
     "data": {
      "text/plain": [
       "[Text(0.5, 0, 'Passenger Class'),\n",
       " Text(0, 0.5, 'Number of Passengers'),\n",
       " Text(0.5, 1.0, 'Number of Passengers in Each Class')]"
      ]
     },
     "execution_count": 162,
     "metadata": {},
     "output_type": "execute_result"
    },
    {
     "data": {
      "image/png": "[encoded data removed]",
      "text/plain": [
       "<Figure size 640x480 with 1 Axes>"
      ]
     },
     "metadata": {},
     "output_type": "display_data"
    }
   ],
   "source": [
    "#A bar plot showing the number of passengers in each class.\n",
    "\n",
    "#Creating a frequency array to store count since we are creating a barplot\n",
    "val = df[\"CLASS\"].tolist()\n",
    "freq = {}\n",
    "for x in val:\n",
    "    if x in freq:\n",
    "        freq[x] += 1\n",
    "    else:\n",
    "        freq[x] = 1\n",
    "keys = [\"First\", \"Second\", \"Third\"]\n",
    "# keys = list(freq.keys())\n",
    "\n",
    "sns.barplot(x = keys, y = [freq[j] for j in keys]).set (\n",
    "    xlabel = 'Passenger Class', \n",
    "    ylabel = 'Number of Passengers', \n",
    "    title = 'Number of Passengers in Each Class'\n",
    ")"
   ]
  },
  {
   "cell_type": "code",
   "execution_count": 138,
   "id": "92a2de91-df12-4e50-8983-e0dac74168de",
   "metadata": {},
   "outputs": [
    {
     "data": {
      "text/plain": [
       "[Text(0.5, 0, 'Survived (0 = No, 1 = Yes)'),\n",
       " Text(0, 0.5, 'Number of Passengers'),\n",
       " Text(0.5, 1.0, 'Number of Survivors vs Non-Survivors')]"
      ]
     },
     "execution_count": 138,
     "metadata": {},
     "output_type": "execute_result"
    },
    {
     "data": {
      "image/png": "[encoded data removed]",
      "text/plain": [
       "<Figure size 640x480 with 1 Axes>"
      ]
     },
     "metadata": {},
     "output_type": "display_data"
    }
   ],
   "source": [
    "#A count plot showing the number of survivors and non-survivors\n",
    "sns.countplot(x = 'SURVIVED', data = df).set(\n",
    "    xlabel = 'Survived (0 = No, 1 = Yes)', \n",
    "    ylabel = 'Number of Passengers', \n",
    "    title = 'Number of Survivors vs Non-Survivors'\n",
    ")"
   ]
  }
 ],
 "metadata": {
  "kernelspec": {
   "display_name": "Python 3 (ipykernel)",
   "language": "python",
   "name": "python3"
  },
  "language_info": {
   "codemirror_mode": {
    "name": "ipython",
    "version": 3
   },
   "file_extension": ".py",
   "mimetype": "text/x-python",
   "name": "python",
   "nbconvert_exporter": "python",
   "pygments_lexer": "ipython3",
   "version": "3.11.7"
  }
 },
 "nbformat": 4,
 "nbformat_minor": 5
}
